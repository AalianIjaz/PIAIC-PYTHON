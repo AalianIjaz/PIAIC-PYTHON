{
  "nbformat": 4,
  "nbformat_minor": 0,
  "metadata": {
    "colab": {
      "provenance": [],
      "authorship_tag": "ABX9TyN8pdnlbobFVyKtQnPc79sA",
      "include_colab_link": true
    },
    "kernelspec": {
      "name": "python3",
      "display_name": "Python 3"
    },
    "language_info": {
      "name": "python"
    }
  },
  "cells": [
    {
      "cell_type": "markdown",
      "metadata": {
        "id": "view-in-github",
        "colab_type": "text"
      },
      "source": [
        "<a href=\"https://colab.research.google.com/github/AalianIjaz/PIAIC-PYTHON/blob/main/Project_7_Password_Generator_Python_Project.ipynb\" target=\"_parent\"><img src=\"https://colab.research.google.com/assets/colab-badge.svg\" alt=\"Open In Colab\"/></a>"
      ]
    },
    {
      "cell_type": "code",
      "execution_count": 1,
      "metadata": {
        "colab": {
          "base_uri": "https://localhost:8080/"
        },
        "id": "fqHek3wvWgpY",
        "outputId": "23822389-7877-456b-9e43-819e7b65ef42"
      },
      "outputs": [
        {
          "output_type": "stream",
          "name": "stdout",
          "text": [
            "Welcome to your  password generator\n",
            "Amount of passwords to generate:2\n",
            "Input your password length:5\n",
            "\n",
            "here are your passwords:\n",
            "dbaba\n",
            "kbkdb\n"
          ]
        }
      ],
      "source": [
        "import random\n",
        "\n",
        "print('Welcome to your  password generator')\n",
        "chars = 'adkdkkabdkabkdbaksbkdbkabdkbdkbkabdkbdkbkabdakdka;'\n",
        "number= input('Amount of passwords to generate:')\n",
        "number = int(number)\n",
        "\n",
        "length = input('Input your password length:')\n",
        "length = int(length)\n",
        "\n",
        "print('\\nhere are your passwords:')\n",
        "for passwords in range(number):\n",
        "    passwords = ''\n",
        "    for c in range(length):\n",
        "        passwords += random.choice(chars)\n",
        "    print(passwords)\n"
      ]
    },
    {
      "cell_type": "code",
      "source": [],
      "metadata": {
        "id": "nqTchIefnIfE"
      },
      "execution_count": null,
      "outputs": []
    }
  ]
}