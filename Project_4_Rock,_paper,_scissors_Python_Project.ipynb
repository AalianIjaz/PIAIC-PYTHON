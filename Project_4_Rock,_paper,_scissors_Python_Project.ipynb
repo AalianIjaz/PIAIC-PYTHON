{
  "nbformat": 4,
  "nbformat_minor": 0,
  "metadata": {
    "colab": {
      "provenance": [],
      "authorship_tag": "ABX9TyNVmj0L8i4nXE5FeIwQ8Y9c",
      "include_colab_link": true
    },
    "kernelspec": {
      "name": "python3",
      "display_name": "Python 3"
    },
    "language_info": {
      "name": "python"
    }
  },
  "cells": [
    {
      "cell_type": "markdown",
      "metadata": {
        "id": "view-in-github",
        "colab_type": "text"
      },
      "source": [
        "<a href=\"https://colab.research.google.com/github/AalianIjaz/PIAIC-PYTHON/blob/main/Project_4_Rock%2C_paper%2C_scissors_Python_Project.ipynb\" target=\"_parent\"><img src=\"https://colab.research.google.com/assets/colab-badge.svg\" alt=\"Open In Colab\"/></a>"
      ]
    },
    {
      "cell_type": "code",
      "execution_count": 8,
      "metadata": {
        "colab": {
          "base_uri": "https://localhost:8080/"
        },
        "id": "HMYeZdmR7vY1",
        "outputId": "439a3d47-1db1-4f6b-bb43-4cbf348bcb1a"
      },
      "outputs": [
        {
          "output_type": "stream",
          "name": "stdout",
          "text": [
            "What's your choice? 'r' for rock, 'p' for paper, 's' for scissors\n",
            "p\n",
            "You won!\n"
          ]
        }
      ],
      "source": [
        "import random\n",
        "def play():\n",
        "  user = input(\"What's your choice? 'r' for rock, 'p' for paper, 's' for scissors\\n\")\n",
        "  computer = random.choice(['r', 'p', 's'])\n",
        "\n",
        "  if user == computer:\n",
        "    return 'It\\'s a tie'\n",
        "\n",
        "  # r > s, s > p, p > r\n",
        "  if is_win(user, computer):\n",
        "    return 'You won!'\n",
        "\n",
        "  return 'You lost!'\n",
        "\n",
        "def is_win(player, opponent):\n",
        "  # return true if player wins\n",
        "  # r > s, s > p, p >\n",
        "  if (player == 'r' and opponent == 's') or (player == 's' and opponent == 'p')\\\n",
        "    or (player == 'p' and opponent == 'r'):\n",
        "    return True\n",
        "\n",
        "print(play())\n"
      ]
    }
  ]
}