{
  "nbformat": 4,
  "nbformat_minor": 0,
  "metadata": {
    "colab": {
      "provenance": [],
      "authorship_tag": "ABX9TyOXRv2HC219TmS7Yo7nTioV",
      "include_colab_link": true
    },
    "kernelspec": {
      "name": "python3",
      "display_name": "Python 3"
    },
    "language_info": {
      "name": "python"
    }
  },
  "cells": [
    {
      "cell_type": "markdown",
      "metadata": {
        "id": "view-in-github",
        "colab_type": "text"
      },
      "source": [
        "<a href=\"https://colab.research.google.com/github/AalianIjaz/PIAIC-PYTHON/blob/main/Project_1_Mad_libs_Python_Project.ipynb\" target=\"_parent\"><img src=\"https://colab.research.google.com/assets/colab-badge.svg\" alt=\"Open In Colab\"/></a>"
      ]
    },
    {
      "cell_type": "code",
      "execution_count": 2,
      "metadata": {
        "colab": {
          "base_uri": "https://localhost:8080/"
        },
        "id": "K-32YAk66vYA",
        "outputId": "0316aaab-81ef-4d42-ec73-db4674efaf35"
      },
      "outputs": [
        {
          "output_type": "stream",
          "name": "stdout",
          "text": [
            "adjectives:a\n",
            "verb:running\n",
            "verb:eating\n",
            "famous person:nidal\n",
            "Computer programming is so a! It makes me so excited all the time because\\ I love to running. Stay hydrated and eating like you are nidal!\n"
          ]
        }
      ],
      "source": [
        "adj = input(\"adjectives:\")\n",
        "verb1 = input(\"verb:\")\n",
        "verb2 = input(\"verb:\")\n",
        "famous_person = input(\"famous person:\")\n",
        "\n",
        "madlib =f\"Computer programming is so {adj}! It makes me so excited all the time because\\ I love to {verb1}. Stay hydrated and {verb2} like you are {famous_person}!\"\n",
        "print(madlib)"
      ]
    }
  ]
}