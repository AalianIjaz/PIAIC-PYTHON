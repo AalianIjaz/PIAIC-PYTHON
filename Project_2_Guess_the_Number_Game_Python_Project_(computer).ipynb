{
  "nbformat": 4,
  "nbformat_minor": 0,
  "metadata": {
    "colab": {
      "provenance": [],
      "authorship_tag": "ABX9TyPlT/35iwr2bS76I8XZhxiO",
      "include_colab_link": true
    },
    "kernelspec": {
      "name": "python3",
      "display_name": "Python 3"
    },
    "language_info": {
      "name": "python"
    }
  },
  "cells": [
    {
      "cell_type": "markdown",
      "metadata": {
        "id": "view-in-github",
        "colab_type": "text"
      },
      "source": [
        "<a href=\"https://colab.research.google.com/github/AalianIjaz/PIAIC-PYTHON/blob/main/Project_2_Guess_the_Number_Game_Python_Project_(computer).ipynb\" target=\"_parent\"><img src=\"https://colab.research.google.com/assets/colab-badge.svg\" alt=\"Open In Colab\"/></a>"
      ]
    },
    {
      "cell_type": "code",
      "execution_count": 2,
      "metadata": {
        "id": "tCiZC8mD6-Gw",
        "colab": {
          "base_uri": "https://localhost:8080/"
        },
        "outputId": "c0246474-24ee-4f4a-8a17-2b57c08dea8e"
      },
      "outputs": [
        {
          "output_type": "stream",
          "name": "stdout",
          "text": [
            "Guess a number between 1 and 10:5\n",
            "Sorry, guess again. Too low.\n",
            "Guess a number between 1 and 10:2\n",
            "Sorry, guess again. Too low.\n",
            "Guess a number between 1 and 10:3\n",
            "Sorry, guess again. Too low.\n",
            "Guess a number between 1 and 10:4\n",
            "Sorry, guess again. Too low.\n",
            "Guess a number between 1 and 10:5\n",
            "Sorry, guess again. Too low.\n",
            "Guess a number between 1 and 10:6\n",
            "Yay, congrats. You have guessed the number 6 correctly!!\n"
          ]
        }
      ],
      "source": [
        "import random\n",
        "\n",
        "def guess(x):\n",
        "  random_number = random.randint(1,x)\n",
        "  guess = 0\n",
        "  while guess != random_number:\n",
        "    guess = int(input(f'Guess a number between 1 and {x}:'))\n",
        "    if guess < random_number:\n",
        "      print('Sorry, guess again. Too low.')\n",
        "    elif guess > random_number:\n",
        "      print('Sorry, guess again. Too high.')\n",
        "\n",
        "  print(f'Yay, congrats. You have guessed the number {random_number} correctly!!')\n",
        "\n",
        "guess(10)\n"
      ]
    }
  ]
}