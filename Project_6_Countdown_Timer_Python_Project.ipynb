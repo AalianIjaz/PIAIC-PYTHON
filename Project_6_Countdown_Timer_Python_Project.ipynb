{
  "nbformat": 4,
  "nbformat_minor": 0,
  "metadata": {
    "colab": {
      "provenance": [],
      "authorship_tag": "ABX9TyOYllO0ht8shAj+F6Kqw8j8",
      "include_colab_link": true
    },
    "kernelspec": {
      "name": "python3",
      "display_name": "Python 3"
    },
    "language_info": {
      "name": "python"
    }
  },
  "cells": [
    {
      "cell_type": "markdown",
      "metadata": {
        "id": "view-in-github",
        "colab_type": "text"
      },
      "source": [
        "<a href=\"https://colab.research.google.com/github/AalianIjaz/PIAIC-PYTHON/blob/main/Project_6_Countdown_Timer_Python_Project.ipynb\" target=\"_parent\"><img src=\"https://colab.research.google.com/assets/colab-badge.svg\" alt=\"Open In Colab\"/></a>"
      ]
    },
    {
      "cell_type": "code",
      "execution_count": 1,
      "metadata": {
        "id": "yos2K3YsEWSP",
        "colab": {
          "base_uri": "https://localhost:8080/"
        },
        "outputId": "21fbd499-251e-4ed2-967d-f45c9ed0cbe7"
      },
      "outputs": [
        {
          "output_type": "stream",
          "name": "stdout",
          "text": [
            "Enter the time in seconds:5\n",
            "Timer completed!\n"
          ]
        }
      ],
      "source": [
        "import time\n",
        "\n",
        "\n",
        "def countdown(t):\n",
        "  while t:\n",
        "    mins, secs = divmod(t,60)\n",
        "    timer = '{:02d}:{:02d}'.format(mins, secs)\n",
        "    print(timer, end=\"\\r\")\n",
        "    time.sleep(1)\n",
        "    t -= 1\n",
        "  print('Timer completed!')\n",
        "t = input('Enter the time in seconds:')\n",
        "countdown(int(t))"
      ]
    },
    {
      "cell_type": "code",
      "source": [],
      "metadata": {
        "id": "9c_4nx0RUhXY"
      },
      "execution_count": null,
      "outputs": []
    },
    {
      "cell_type": "code",
      "source": [],
      "metadata": {
        "id": "R_ZiXmDGQOC9"
      },
      "execution_count": null,
      "outputs": []
    }
  ]
}